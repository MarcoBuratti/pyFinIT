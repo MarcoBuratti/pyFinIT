{
 "cells": [
  {
   "cell_type": "code",
   "execution_count": 108,
   "metadata": {},
   "outputs": [],
   "source": [
    "#Import packages\n",
    "import numpy as np\n",
    "import pandas as pd\n",
    "from pandas_datareader import data as wb"
   ]
  },
  {
   "cell_type": "code",
   "execution_count": 109,
   "metadata": {},
   "outputs": [],
   "source": [
    "#TEST NUMBER 1: CAPM"
   ]
  },
  {
   "cell_type": "code",
   "execution_count": 110,
   "metadata": {},
   "outputs": [
    {
     "name": "stdout",
     "output_type": "stream",
     "text": [
      "                  TSLA        AAPL         VGT       ORCL        ^GSPC\n",
      "Date                                                                  \n",
      "2015-11-02   42.757999   27.720858  104.863068  36.635792  2104.050049\n",
      "2015-11-03   41.669998   28.038834  105.549515  37.050529  2109.790039\n",
      "2015-11-04   46.326000   27.908440  105.746971  37.308601  2102.310059\n",
      "2015-11-05   46.354000   27.779785  105.427269  37.188782  2099.929932\n",
      "2015-11-06   46.472000   27.811951  106.047890  37.437622  2099.199951\n",
      "...                ...         ...         ...        ...          ...\n",
      "2020-10-26  420.279999  114.851852  311.720001  57.490002  3400.969971\n",
      "2020-10-27  424.679993  116.399178  313.119995  57.080002  3390.679932\n",
      "2020-10-28  406.019989  111.008476  300.619995  55.590000  3271.030029\n",
      "2020-10-29  410.829987  115.121384  304.880005  56.020000  3310.110107\n",
      "2020-10-30  388.040009  108.672516  297.989990  56.110001  3269.959961\n",
      "\n",
      "[1259 rows x 5 columns]\n"
     ]
    }
   ],
   "source": [
    "#Import last 5 years data (add market portfolio S&P 500)\n",
    "tickers = ['TSLA', 'AAPL', 'VGT', 'ORCL', '^GSPC']\n",
    "mydata2 = pd.DataFrame()\n",
    "for t in tickers:\n",
    "    mydata2[t]= wb.DataReader(t,data_source='yahoo', start='2015-11-1', end = \"2020-10-31\")['Adj Close']\n",
    "print(mydata2)"
   ]
  },
  {
   "cell_type": "code",
   "execution_count": 111,
   "metadata": {},
   "outputs": [
    {
     "name": "stdout",
     "output_type": "stream",
     "text": [
      "                TSLA      AAPL       VGT      ORCL     ^GSPC\n",
      "Date                                                        \n",
      "2015-11-02       NaN       NaN       NaN       NaN       NaN\n",
      "2015-11-03 -0.025775  0.011405  0.006525  0.011257  0.002724\n",
      "2015-11-04  0.105922 -0.004661  0.001869  0.006941 -0.003552\n",
      "2015-11-05  0.000604 -0.004621 -0.003028 -0.003217 -0.001133\n",
      "2015-11-06  0.002542  0.001157  0.005869  0.006669 -0.000348\n",
      "...              ...       ...       ...       ...       ...\n",
      "2020-10-26 -0.000832  0.000087 -0.021831 -0.041065 -0.018764\n",
      "2020-10-27  0.010415  0.013382  0.004481 -0.007157 -0.003030\n",
      "2020-10-28 -0.044934 -0.047419 -0.040739 -0.026450 -0.035926\n",
      "2020-10-29  0.011777  0.036381  0.014071  0.007705  0.011877\n",
      "2020-10-30 -0.057071 -0.057648 -0.022858  0.001605 -0.012204\n",
      "\n",
      "[1259 rows x 5 columns]\n"
     ]
    }
   ],
   "source": [
    "#Calculate the log return of 4 stocks\n",
    "sec_returns = np.log(mydata2 / mydata2.shift(1))\n",
    "print(sec_returns)"
   ]
  },
  {
   "cell_type": "code",
   "execution_count": 112,
   "metadata": {},
   "outputs": [
    {
     "name": "stdout",
     "output_type": "stream",
     "text": [
      "           TSLA      AAPL       VGT      ORCL     ^GSPC\n",
      "TSLA   0.324654  0.069316  0.064646  0.037980  0.048171\n",
      "AAPL   0.069316  0.089987  0.060385  0.041799  0.043854\n",
      "VGT    0.064646  0.060385  0.056186  0.043591  0.042922\n",
      "ORCL   0.037980  0.041799  0.043591  0.067278  0.035903\n",
      "^GSPC  0.048171  0.043854  0.042922  0.035903  0.037286\n"
     ]
    }
   ],
   "source": [
    "#Calculate the covariance matrix between portfolio and the Market\n",
    "cov = sec_returns.cov()*250\n",
    "print(cov)"
   ]
  },
  {
   "cell_type": "code",
   "execution_count": 113,
   "metadata": {},
   "outputs": [
    {
     "name": "stdout",
     "output_type": "stream",
     "text": [
      "0.06931615432284816\n"
     ]
    }
   ],
   "source": [
    "#Calculate the covariance between the stock and the market as a float\n",
    "cov_with_market = cov.iloc[0,1]\n",
    "print(cov_with_market) "
   ]
  },
  {
   "cell_type": "code",
   "execution_count": 114,
   "metadata": {},
   "outputs": [
    {
     "name": "stdout",
     "output_type": "stream",
     "text": [
      "0.03728595605584034\n"
     ]
    }
   ],
   "source": [
    "#Compute the annualized variance of the market S&P500\n",
    "market_var = sec_returns[\"^GSPC\"].var()*250\n",
    "print(market_var)"
   ]
  },
  {
   "cell_type": "code",
   "execution_count": 115,
   "metadata": {},
   "outputs": [
    {
     "name": "stdout",
     "output_type": "stream",
     "text": [
      "1.85904189285206\n"
     ]
    }
   ],
   "source": [
    "#Calculate the beta of the portfolio\n",
    "beta = cov_with_market / market_var\n",
    "print(beta)"
   ]
  },
  {
   "cell_type": "code",
   "execution_count": 116,
   "metadata": {},
   "outputs": [],
   "source": [
    "#This value is x > 1. This means that is an offensive portfolio"
   ]
  },
  {
   "cell_type": "code",
   "execution_count": 117,
   "metadata": {},
   "outputs": [
    {
     "name": "stdout",
     "output_type": "stream",
     "text": [
      "Expected Return:\n",
      "0.117952094642603\n"
     ]
    }
   ],
   "source": [
    "#Calculating the expected return of the portfolio (CAPM)\n",
    "er = 0.025 + beta*0.05\n",
    "print(\"Expected Return:\")\n",
    "print(er)"
   ]
  },
  {
   "cell_type": "code",
   "execution_count": 121,
   "metadata": {},
   "outputs": [
    {
     "name": "stdout",
     "output_type": "stream",
     "text": [
      "TSLA    0.163136\n",
      "AAPL    0.309863\n",
      "VGT     0.392143\n",
      "ORCL    0.358364\n",
      "dtype: float64\n"
     ]
    }
   ],
   "source": [
    "#Calculate the sharpe ratio of the portfolio\n",
    "Sharpe = (er - 0.025) / (sec_returns[[\"TSLA\", \"AAPL\", \"VGT\", \"ORCL\"]].std()*250**0.5)\n",
    "print(Sharpe)"
   ]
  },
  {
   "cell_type": "code",
   "execution_count": null,
   "metadata": {},
   "outputs": [],
   "source": []
  }
 ],
 "metadata": {
  "kernelspec": {
   "display_name": "Python 3",
   "language": "python",
   "name": "python3"
  },
  "language_info": {
   "codemirror_mode": {
    "name": "ipython",
    "version": 3
   },
   "file_extension": ".py",
   "mimetype": "text/x-python",
   "name": "python",
   "nbconvert_exporter": "python",
   "pygments_lexer": "ipython3",
   "version": "3.8.3"
  }
 },
 "nbformat": 4,
 "nbformat_minor": 4
}
